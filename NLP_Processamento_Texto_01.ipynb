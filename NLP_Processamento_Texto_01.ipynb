{
  "nbformat": 4,
  "nbformat_minor": 0,
  "metadata": {
    "colab": {
      "provenance": [],
      "authorship_tag": "ABX9TyME7iQuQIzSnC7EG182OXvn",
      "include_colab_link": true
    },
    "kernelspec": {
      "name": "python3",
      "display_name": "Python 3"
    },
    "language_info": {
      "name": "python"
    }
  },
  "cells": [
    {
      "cell_type": "markdown",
      "metadata": {
        "id": "view-in-github",
        "colab_type": "text"
      },
      "source": [
        "<a href=\"https://colab.research.google.com/github/AdaoBartolomeuAB/NLP_Processamento_Texto_01/blob/master/NLP_Processamento_Texto_01.ipynb\" target=\"_parent\"><img src=\"https://colab.research.google.com/assets/colab-badge.svg\" alt=\"Open In Colab\"/></a>"
      ]
    },
    {
      "cell_type": "code",
      "execution_count": 1,
      "metadata": {
        "colab": {
          "base_uri": "https://localhost:8080/"
        },
        "id": "CLqJXxxIrQE0",
        "outputId": "4b4eb242-d5c1-4fff-bc17-cb9adeddb626"
      },
      "outputs": [
        {
          "output_type": "stream",
          "name": "stdout",
          "text": [
            "Collecting pt-core-news-sm==3.7.0\n",
            "  Downloading https://github.com/explosion/spacy-models/releases/download/pt_core_news_sm-3.7.0/pt_core_news_sm-3.7.0-py3-none-any.whl (13.0 MB)\n",
            "\u001b[2K     \u001b[90m━━━━━━━━━━━━━━━━━━━━━━━━━━━━━━━━━━━━━━━━\u001b[0m \u001b[32m13.0/13.0 MB\u001b[0m \u001b[31m40.4 MB/s\u001b[0m eta \u001b[36m0:00:00\u001b[0m\n",
            "\u001b[?25hRequirement already satisfied: spacy<3.8.0,>=3.7.0 in /usr/local/lib/python3.11/dist-packages (from pt-core-news-sm==3.7.0) (3.7.5)\n",
            "Requirement already satisfied: spacy-legacy<3.1.0,>=3.0.11 in /usr/local/lib/python3.11/dist-packages (from spacy<3.8.0,>=3.7.0->pt-core-news-sm==3.7.0) (3.0.12)\n",
            "Requirement already satisfied: spacy-loggers<2.0.0,>=1.0.0 in /usr/local/lib/python3.11/dist-packages (from spacy<3.8.0,>=3.7.0->pt-core-news-sm==3.7.0) (1.0.5)\n",
            "Requirement already satisfied: murmurhash<1.1.0,>=0.28.0 in /usr/local/lib/python3.11/dist-packages (from spacy<3.8.0,>=3.7.0->pt-core-news-sm==3.7.0) (1.0.12)\n",
            "Requirement already satisfied: cymem<2.1.0,>=2.0.2 in /usr/local/lib/python3.11/dist-packages (from spacy<3.8.0,>=3.7.0->pt-core-news-sm==3.7.0) (2.0.11)\n",
            "Requirement already satisfied: preshed<3.1.0,>=3.0.2 in /usr/local/lib/python3.11/dist-packages (from spacy<3.8.0,>=3.7.0->pt-core-news-sm==3.7.0) (3.0.9)\n",
            "Requirement already satisfied: thinc<8.3.0,>=8.2.2 in /usr/local/lib/python3.11/dist-packages (from spacy<3.8.0,>=3.7.0->pt-core-news-sm==3.7.0) (8.2.5)\n",
            "Requirement already satisfied: wasabi<1.2.0,>=0.9.1 in /usr/local/lib/python3.11/dist-packages (from spacy<3.8.0,>=3.7.0->pt-core-news-sm==3.7.0) (1.1.3)\n",
            "Requirement already satisfied: srsly<3.0.0,>=2.4.3 in /usr/local/lib/python3.11/dist-packages (from spacy<3.8.0,>=3.7.0->pt-core-news-sm==3.7.0) (2.5.1)\n",
            "Requirement already satisfied: catalogue<2.1.0,>=2.0.6 in /usr/local/lib/python3.11/dist-packages (from spacy<3.8.0,>=3.7.0->pt-core-news-sm==3.7.0) (2.0.10)\n",
            "Requirement already satisfied: weasel<0.5.0,>=0.1.0 in /usr/local/lib/python3.11/dist-packages (from spacy<3.8.0,>=3.7.0->pt-core-news-sm==3.7.0) (0.4.1)\n",
            "Requirement already satisfied: typer<1.0.0,>=0.3.0 in /usr/local/lib/python3.11/dist-packages (from spacy<3.8.0,>=3.7.0->pt-core-news-sm==3.7.0) (0.15.1)\n",
            "Requirement already satisfied: tqdm<5.0.0,>=4.38.0 in /usr/local/lib/python3.11/dist-packages (from spacy<3.8.0,>=3.7.0->pt-core-news-sm==3.7.0) (4.67.1)\n",
            "Requirement already satisfied: requests<3.0.0,>=2.13.0 in /usr/local/lib/python3.11/dist-packages (from spacy<3.8.0,>=3.7.0->pt-core-news-sm==3.7.0) (2.32.3)\n",
            "Requirement already satisfied: pydantic!=1.8,!=1.8.1,<3.0.0,>=1.7.4 in /usr/local/lib/python3.11/dist-packages (from spacy<3.8.0,>=3.7.0->pt-core-news-sm==3.7.0) (2.10.6)\n",
            "Requirement already satisfied: jinja2 in /usr/local/lib/python3.11/dist-packages (from spacy<3.8.0,>=3.7.0->pt-core-news-sm==3.7.0) (3.1.5)\n",
            "Requirement already satisfied: setuptools in /usr/local/lib/python3.11/dist-packages (from spacy<3.8.0,>=3.7.0->pt-core-news-sm==3.7.0) (75.1.0)\n",
            "Requirement already satisfied: packaging>=20.0 in /usr/local/lib/python3.11/dist-packages (from spacy<3.8.0,>=3.7.0->pt-core-news-sm==3.7.0) (24.2)\n",
            "Requirement already satisfied: langcodes<4.0.0,>=3.2.0 in /usr/local/lib/python3.11/dist-packages (from spacy<3.8.0,>=3.7.0->pt-core-news-sm==3.7.0) (3.5.0)\n",
            "Requirement already satisfied: numpy>=1.19.0 in /usr/local/lib/python3.11/dist-packages (from spacy<3.8.0,>=3.7.0->pt-core-news-sm==3.7.0) (1.26.4)\n",
            "Requirement already satisfied: language-data>=1.2 in /usr/local/lib/python3.11/dist-packages (from langcodes<4.0.0,>=3.2.0->spacy<3.8.0,>=3.7.0->pt-core-news-sm==3.7.0) (1.3.0)\n",
            "Requirement already satisfied: annotated-types>=0.6.0 in /usr/local/lib/python3.11/dist-packages (from pydantic!=1.8,!=1.8.1,<3.0.0,>=1.7.4->spacy<3.8.0,>=3.7.0->pt-core-news-sm==3.7.0) (0.7.0)\n",
            "Requirement already satisfied: pydantic-core==2.27.2 in /usr/local/lib/python3.11/dist-packages (from pydantic!=1.8,!=1.8.1,<3.0.0,>=1.7.4->spacy<3.8.0,>=3.7.0->pt-core-news-sm==3.7.0) (2.27.2)\n",
            "Requirement already satisfied: typing-extensions>=4.12.2 in /usr/local/lib/python3.11/dist-packages (from pydantic!=1.8,!=1.8.1,<3.0.0,>=1.7.4->spacy<3.8.0,>=3.7.0->pt-core-news-sm==3.7.0) (4.12.2)\n",
            "Requirement already satisfied: charset-normalizer<4,>=2 in /usr/local/lib/python3.11/dist-packages (from requests<3.0.0,>=2.13.0->spacy<3.8.0,>=3.7.0->pt-core-news-sm==3.7.0) (3.4.1)\n",
            "Requirement already satisfied: idna<4,>=2.5 in /usr/local/lib/python3.11/dist-packages (from requests<3.0.0,>=2.13.0->spacy<3.8.0,>=3.7.0->pt-core-news-sm==3.7.0) (3.10)\n",
            "Requirement already satisfied: urllib3<3,>=1.21.1 in /usr/local/lib/python3.11/dist-packages (from requests<3.0.0,>=2.13.0->spacy<3.8.0,>=3.7.0->pt-core-news-sm==3.7.0) (2.3.0)\n",
            "Requirement already satisfied: certifi>=2017.4.17 in /usr/local/lib/python3.11/dist-packages (from requests<3.0.0,>=2.13.0->spacy<3.8.0,>=3.7.0->pt-core-news-sm==3.7.0) (2025.1.31)\n",
            "Requirement already satisfied: blis<0.8.0,>=0.7.8 in /usr/local/lib/python3.11/dist-packages (from thinc<8.3.0,>=8.2.2->spacy<3.8.0,>=3.7.0->pt-core-news-sm==3.7.0) (0.7.11)\n",
            "Requirement already satisfied: confection<1.0.0,>=0.0.1 in /usr/local/lib/python3.11/dist-packages (from thinc<8.3.0,>=8.2.2->spacy<3.8.0,>=3.7.0->pt-core-news-sm==3.7.0) (0.1.5)\n",
            "Requirement already satisfied: click>=8.0.0 in /usr/local/lib/python3.11/dist-packages (from typer<1.0.0,>=0.3.0->spacy<3.8.0,>=3.7.0->pt-core-news-sm==3.7.0) (8.1.8)\n",
            "Requirement already satisfied: shellingham>=1.3.0 in /usr/local/lib/python3.11/dist-packages (from typer<1.0.0,>=0.3.0->spacy<3.8.0,>=3.7.0->pt-core-news-sm==3.7.0) (1.5.4)\n",
            "Requirement already satisfied: rich>=10.11.0 in /usr/local/lib/python3.11/dist-packages (from typer<1.0.0,>=0.3.0->spacy<3.8.0,>=3.7.0->pt-core-news-sm==3.7.0) (13.9.4)\n",
            "Requirement already satisfied: cloudpathlib<1.0.0,>=0.7.0 in /usr/local/lib/python3.11/dist-packages (from weasel<0.5.0,>=0.1.0->spacy<3.8.0,>=3.7.0->pt-core-news-sm==3.7.0) (0.20.0)\n",
            "Requirement already satisfied: smart-open<8.0.0,>=5.2.1 in /usr/local/lib/python3.11/dist-packages (from weasel<0.5.0,>=0.1.0->spacy<3.8.0,>=3.7.0->pt-core-news-sm==3.7.0) (7.1.0)\n",
            "Requirement already satisfied: MarkupSafe>=2.0 in /usr/local/lib/python3.11/dist-packages (from jinja2->spacy<3.8.0,>=3.7.0->pt-core-news-sm==3.7.0) (3.0.2)\n",
            "Requirement already satisfied: marisa-trie>=1.1.0 in /usr/local/lib/python3.11/dist-packages (from language-data>=1.2->langcodes<4.0.0,>=3.2.0->spacy<3.8.0,>=3.7.0->pt-core-news-sm==3.7.0) (1.2.1)\n",
            "Requirement already satisfied: markdown-it-py>=2.2.0 in /usr/local/lib/python3.11/dist-packages (from rich>=10.11.0->typer<1.0.0,>=0.3.0->spacy<3.8.0,>=3.7.0->pt-core-news-sm==3.7.0) (3.0.0)\n",
            "Requirement already satisfied: pygments<3.0.0,>=2.13.0 in /usr/local/lib/python3.11/dist-packages (from rich>=10.11.0->typer<1.0.0,>=0.3.0->spacy<3.8.0,>=3.7.0->pt-core-news-sm==3.7.0) (2.18.0)\n",
            "Requirement already satisfied: wrapt in /usr/local/lib/python3.11/dist-packages (from smart-open<8.0.0,>=5.2.1->weasel<0.5.0,>=0.1.0->spacy<3.8.0,>=3.7.0->pt-core-news-sm==3.7.0) (1.17.2)\n",
            "Requirement already satisfied: mdurl~=0.1 in /usr/local/lib/python3.11/dist-packages (from markdown-it-py>=2.2.0->rich>=10.11.0->typer<1.0.0,>=0.3.0->spacy<3.8.0,>=3.7.0->pt-core-news-sm==3.7.0) (0.1.2)\n",
            "Installing collected packages: pt-core-news-sm\n",
            "Successfully installed pt-core-news-sm-3.7.0\n",
            "\u001b[38;5;2m✔ Download and installation successful\u001b[0m\n",
            "You can now load the package via spacy.load('pt_core_news_sm')\n",
            "\u001b[38;5;3m⚠ Restart to reload dependencies\u001b[0m\n",
            "If you are in a Jupyter or Colab notebook, you may need to restart Python in\n",
            "order to load all the package's dependencies. You can do this by selecting the\n",
            "'Restart kernel' or 'Restart runtime' option.\n",
            "['clientes', 'reclamando', 'atendimento', 'site', '.']\n"
          ]
        }
      ],
      "source": [
        "# Remover Stopwords\n",
        "\n",
        "import spacy\n",
        "\n",
        "# Carregar o modelo de NLP para português\n",
        "!python -m spacy download pt_core_news_sm\n",
        "nlp = spacy.load(\"pt_core_news_sm\")\n",
        "\n",
        "# Texto de exemplo\n",
        "texto = \"Os clientes estão reclamando do atendimento no site.\"\n",
        "\n",
        "# Processar o texto\n",
        "doc = nlp(texto)\n",
        "\n",
        "# Remover stopwords\n",
        "tokens_filtrados = [token.text for token in doc if not token.is_stop]\n",
        "\n",
        "print(tokens_filtrados)"
      ]
    },
    {
      "cell_type": "code",
      "source": [
        "# Remover Stopwords\n",
        "\n",
        "\n",
        "# Texto de exemplo\n",
        "texto = \"As reuniões da semana com os clientes foram um sucesso.\"\n",
        "\n",
        "# Processar o texto\n",
        "doc = nlp(texto)\n",
        "\n",
        "# Remover stopwords\n",
        "tokens_filtrados = [token.text for token in doc if not token.is_stop]\n",
        "\n",
        "print(tokens_filtrados)"
      ],
      "metadata": {
        "colab": {
          "base_uri": "https://localhost:8080/"
        },
        "id": "QPbf-9BfsLvH",
        "outputId": "6afdd80a-cffb-4e94-a5ad-ec02d8bc1f6b"
      },
      "execution_count": 3,
      "outputs": [
        {
          "output_type": "stream",
          "name": "stdout",
          "text": [
            "['reuniões', 'semana', 'clientes', 'sucesso', '.']\n"
          ]
        }
      ]
    },
    {
      "cell_type": "code",
      "source": [
        "# Texto de exemplo\n",
        "texto2 = \"A tecnologia tem desempenhado um papel fundamental na evolução da sociedade moderna. Nos últimos anos, o avanço das inovações tecnológicas tem permitido uma maior eficiência em diversos setores, incluindo saúde, educação, transporte e comunicação. Atualmente, com a popularização da internet, o acesso à informação tornou-se mais rápido e acessível. No entanto, esse crescimento também trouxe desafios, como a disseminação de notícias falsas e a privacidade dos dados dos usuários.No setor da saúde, os avanços tecnológicos possibilitaram o desenvolvimento de equipamentos mais precisos, ajudando no diagnóstico e tratamento de doenças. Além disso, a inteligência artificial tem sido utilizada para analisar grandes volumes de dados médicos, proporcionando diagnósticos mais rápidos e eficazes. No campo da educação, plataformas de ensino online revolucionaram a maneira como as pessoas aprendem, permitindo acesso a cursos e materiais educativos de qualquer parte do mundo.Os transportes também foram impactados pelas novas tecnologias. Carros autónomos, sistemas de navegação inteligentes e a eletrificação dos veículos são algumas das inovações que prometem transformar a mobilidade urbana. Por outro lado, a comunicação tornou-se instantânea, permitindo que pessoas de diferentes continentes interajam em tempo real. Apesar dos benefícios, é essencial discutir os desafios éticos que surgem com esses avanços. A regulamentação da inteligência artificial, a proteção dos dados pessoais e o combate à desinformação são temas que necessitam de atenção para garantir um futuro tecnológico seguro e responsável.\"  #gerar no ChatGPT\n",
        "\n",
        "# Processar o texto\n",
        "doc2 = nlp(texto2)\n",
        "\n",
        "# Remover stopwords\n",
        "tokens_filtrados = [token.text for token in doc2 if not token.is_stop]\n",
        "\n",
        "print(tokens_filtrados)"
      ],
      "metadata": {
        "colab": {
          "base_uri": "https://localhost:8080/"
        },
        "id": "1WQCuQfvtBS4",
        "outputId": "a0ed31d4-df2b-4ca3-c096-cf0ae43e0567"
      },
      "execution_count": 4,
      "outputs": [
        {
          "output_type": "stream",
          "name": "stdout",
          "text": [
            "['tecnologia', 'desempenhado', 'papel', 'fundamental', 'evolução', 'sociedade', 'moderna', '.', 'últimos', 'anos', ',', 'avanço', 'inovações', 'tecnológicas', 'permitido', 'eficiência', 'diversos', 'setores', ',', 'incluindo', 'saúde', ',', 'educação', ',', 'transporte', 'comunicação', '.', 'Atualmente', ',', 'popularização', 'internet', ',', 'acesso', 'informação', 'tornou-se', 'rápido', 'acessível', '.', 'entanto', ',', 'crescimento', 'trouxe', 'desafios', ',', 'disseminação', 'notícias', 'falsas', 'privacidade', 'dados', 'usuários', '.', 'setor', 'saúde', ',', 'avanços', 'tecnológicos', 'possibilitaram', 'desenvolvimento', 'equipamentos', 'precisos', ',', 'ajudando', 'diagnóstico', 'tratamento', 'doenças', '.', ',', 'inteligência', 'artificial', 'sido', 'utilizada', 'analisar', 'volumes', 'dados', 'médicos', ',', 'proporcionando', 'diagnósticos', 'rápidos', 'eficazes', '.', 'campo', 'educação', ',', 'plataformas', 'ensino', 'online', 'revolucionaram', 'maneira', 'pessoas', 'aprendem', ',', 'permitindo', 'acesso', 'cursos', 'materiais', 'educativos', 'mundo', '.', 'transportes', 'impactados', 'tecnologias', '.', 'Carros', 'autónomos', ',', 'sistemas', 'navegação', 'inteligentes', 'eletrificação', 'veículos', 'inovações', 'prometem', 'transformar', 'mobilidade', 'urbana', '.', 'outro', ',', 'comunicação', 'tornou-se', 'instantânea', ',', 'permitindo', 'pessoas', 'diferentes', 'continentes', 'interajam', 'real', '.', 'Apesar', 'benefícios', ',', 'essencial', 'discutir', 'desafios', 'éticos', 'surgem', 'avanços', '.', 'regulamentação', 'inteligência', 'artificial', ',', 'proteção', 'dados', 'pessoais', 'combate', 'desinformação', 'temas', 'necessitam', 'atenção', 'garantir', 'futuro', 'tecnológico', 'seguro', 'responsável', '.']\n"
          ]
        }
      ]
    },
    {
      "cell_type": "code",
      "source": [
        "# Lematização\n",
        "\n",
        "# Texto de exemplo\n",
        "texto = \"Os clientes compraram produtos novos.\"\n",
        "\n",
        "# Aplicar NLP no texto\n",
        "doc = nlp(texto)\n",
        "\n",
        "# Lematizar palavras\n",
        "lematizado = [token.lemma_ for token in doc]\n",
        "\n",
        "print(lematizado)"
      ],
      "metadata": {
        "colab": {
          "base_uri": "https://localhost:8080/"
        },
        "id": "qx9wfLG9tl6Z",
        "outputId": "cdbbb641-0724-4fa4-83c4-285bdea11e47"
      },
      "execution_count": 5,
      "outputs": [
        {
          "output_type": "stream",
          "name": "stdout",
          "text": [
            "['o', 'cliente', 'comprar', 'produto', 'novo', '.']\n"
          ]
        }
      ]
    },
    {
      "cell_type": "code",
      "source": [
        "# Lematização\n",
        "\n",
        "# Texto de exemplo\n",
        "texto = \"O funcionario desenvolveu muitos projetos\"\n",
        "\n",
        "# Aplicar NLP no texto\n",
        "doc = nlp(texto)\n",
        "\n",
        "# Lematizar palavras\n",
        "lematizado = [token.lemma_ for token in doc]\n",
        "\n",
        "print(lematizado)"
      ],
      "metadata": {
        "colab": {
          "base_uri": "https://localhost:8080/"
        },
        "id": "RsxtONIDtt5Y",
        "outputId": "b3d59d71-f2cc-4ba1-e0e0-f6f9e6bb5824"
      },
      "execution_count": 6,
      "outputs": [
        {
          "output_type": "stream",
          "name": "stdout",
          "text": [
            "['o', 'funcionario', 'desenvolver', 'muito', 'projeto']\n"
          ]
        }
      ]
    },
    {
      "cell_type": "code",
      "source": [
        "# Texto de exemplo\n",
        "texto2 = \"A tecnologia tem desempenhado um papel fundamental na evolução da sociedade moderna. Nos últimos anos, o avanço das inovações tecnológicas tem permitido uma maior eficiência em diversos setores, incluindo saúde, educação, transporte e comunicação. Atualmente, com a popularização da internet, o acesso à informação tornou-se mais rápido e acessível. No entanto, esse crescimento também trouxe desafios, como a disseminação de notícias falsas e a privacidade dos dados dos usuários.No setor da saúde, os avanços tecnológicos possibilitaram o desenvolvimento de equipamentos mais precisos, ajudando no diagnóstico e tratamento de doenças. Além disso, a inteligência artificial tem sido utilizada para analisar grandes volumes de dados médicos, proporcionando diagnósticos mais rápidos e eficazes. No campo da educação, plataformas de ensino online revolucionaram a maneira como as pessoas aprendem, permitindo acesso a cursos e materiais educativos de qualquer parte do mundo.Os transportes também foram impactados pelas novas tecnologias. Carros autónomos, sistemas de navegação inteligentes e a eletrificação dos veículos são algumas das inovações que prometem transformar a mobilidade urbana. Por outro lado, a comunicação tornou-se instantânea, permitindo que pessoas de diferentes continentes interajam em tempo real. Apesar dos benefícios, é essencial discutir os desafios éticos que surgem com esses avanços. A regulamentação da inteligência artificial, a proteção dos dados pessoais e o combate à desinformação são temas que necessitam de atenção para garantir um futuro tecnológico seguro e responsável.\"\n",
        "\n",
        "# Aplicar NLP no texto\n",
        "doc = nlp(texto2)\n",
        "\n",
        "# Lematizar palavras\n",
        "lematizado = [token.lemma_ for token in doc]\n",
        "\n",
        "print(lematizado)"
      ],
      "metadata": {
        "colab": {
          "base_uri": "https://localhost:8080/"
        },
        "id": "ZbMJQerKuSnJ",
        "outputId": "4bb038ac-210e-4a1e-fa56-fba3b5e7009b"
      },
      "execution_count": 7,
      "outputs": [
        {
          "output_type": "stream",
          "name": "stdout",
          "text": [
            "['o', 'tecnologia', 'ter', 'desempenhar', 'um', 'papel', 'fundamental', 'em o', 'evolução', 'de o', 'sociedade', 'moderno', '.', 'em o', 'último', 'ano', ',', 'o', 'avanço', 'de o', 'inovação', 'tecnológico', 'ter', 'permitir', 'um', 'grande', 'eficiência', 'em', 'diversos', 'setor', ',', 'incluir', 'saúde', ',', 'educação', ',', 'transporte', 'e', 'comunicação', '.', 'atualmente', ',', 'com', 'o', 'popularização', 'de o', 'Internet', ',', 'o', 'acesso', 'a o', 'informação', 'tornar se', 'mais', 'rápido', 'e', 'acessível', '.', 'em o', 'entanto', ',', 'esse', 'crescimento', 'também', 'trazer', 'desafio', ',', 'como', 'o', 'disseminação', 'de', 'notícia', 'falso', 'e', 'o', 'privacidade', 'de o', 'dado', 'de o', 'usuário', '.', 'em o', 'setor', 'de o', 'saúde', ',', 'o', 'avanço', 'tecnológico', 'possibilitar', 'o', 'desenvolvimento', 'de', 'equipamento', 'mais', 'preciso', ',', 'ajudar', 'em o', 'diagnóstico', 'e', 'tratamento', 'de', 'doença', '.', 'além', 'de isso', ',', 'o', 'inteligência', 'artificial', 'ter', 'ser', 'utilizar', 'para', 'analisar', 'grande', 'volume', 'de', 'dado', 'médico', ',', 'proporcionar', 'diagnóstico', 'mais', 'rápido', 'e', 'eficaz', '.', 'em o', 'campo', 'de o', 'educação', ',', 'plataformo', 'de', 'ensino', 'onliner', 'revolucionar', 'o', 'maneira', 'como', 'o', 'pessoa', 'aprender', ',', 'permitir', 'acesso', 'a', 'curso', 'e', 'material', 'educativo', 'de', 'qualquer', 'parte', 'de o', 'mundo', '.', 'o', 'transporte', 'também', 'ser', 'impactar', 'por o', 'novo', 'tecnologia', '.', 'carro', 'autónomo', ',', 'sistema', 'de', 'navegação', 'inteligente', 'e', 'o', 'eletrificação', 'de o', 'veículo', 'ser', 'algum', 'de o', 'inovação', 'que', 'prometer', 'transformar', 'o', 'mobilidade', 'urbano', '.', 'por', 'outro', 'lado', ',', 'o', 'comunicação', 'tornar se', 'instantânea', ',', 'permitir', 'que', 'pessoa', 'de', 'diferentes', 'continente', 'interajar', 'em', 'tempo', 'real', '.', 'apesar', 'de o', 'benefício', ',', 'ser', 'essencial', 'discutir', 'o', 'desafio', 'ético', 'que', 'surgir', 'com', 'esse', 'avanço', '.', 'o', 'regulamentação', 'de o', 'inteligência', 'artificial', ',', 'o', 'proteção', 'de o', 'dado', 'pessoal', 'e', 'o', 'combate', 'a o', 'desinformação', 'ser', 'tema', 'que', 'necessitar', 'de', 'atenção', 'para', 'garantir', 'um', 'futuro', 'tecnológico', 'seguro', 'e', 'responsável', '.']\n"
          ]
        }
      ]
    }
  ]
}